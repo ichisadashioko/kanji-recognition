{
	"cells": [
		{
			"cell_type": "markdown",
			"metadata": {},
			"source": [
				"# Kanji recognition\n",
				"\n",
				"This project is about building a [CNN](https://en.wikipedia.org/wiki/Convolutional_neural_network) to recognize a limited set of [kanji](https://en.wikipedia.org/wiki/Kanji) from a gray image (64x64 pixels) contains a single kanji."
			]
		},
		{
			"cell_type": "markdown",
			"metadata": {},
			"source": [
				"## The kanji list\n",
				"\n",
				"I will use the [RTK 1 kanji list](memrise_rtk_kanji.txt) which contains about 2000 kanji.\n",
				"\n",
				"You can obtains your own kanji list by scraping some websites like [wikipedia](https://en.wikipedia.org/wiki/List_of_j%C5%8Dy%C5%8D_kanji) or [memrise](https://www.memrise.com/course/43670/remembering-the-kanji-volume-1/)."
			]
		},
		{
			"cell_type": "code",
			"execution_count": 2,
			"metadata": {},
			"outputs": [],
			"source": [
				"# encoding=utf-8\n",
				"import os\n",
				"import time\n",
				"import re\n",
				"import math\n",
				"\n",
				"import numpy as np\n",
				"import pandas\n",
				"\n",
				"import IPython.display as display\n",
				"\n",
				"import tensorflow as tf\n",
				"# tf.enable_eager_execution()\n",
				"\n",
				"# this is my custom library file that will host all the methods and model architectures\n",
				"import utilities"
			]
		},
		{
			"cell_type": "code",
			"execution_count": 3,
			"metadata": {},
			"outputs": [
				{
					"data": {
						"text/html": [
							"<div>\n",
							"<style scoped>\n",
							"    .dataframe tbody tr th:only-of-type {\n",
							"        vertical-align: middle;\n",
							"    }\n",
							"\n",
							"    .dataframe tbody tr th {\n",
							"        vertical-align: top;\n",
							"    }\n",
							"\n",
							"    .dataframe thead th {\n",
							"        text-align: right;\n",
							"    }\n",
							"</style>\n",
							"<table border=\"1\" class=\"dataframe\">\n",
							"  <thead>\n",
							"    <tr style=\"text-align: right;\">\n",
							"      <th></th>\n",
							"      <th>0</th>\n",
							"      <th>1</th>\n",
							"    </tr>\n",
							"  </thead>\n",
							"  <tbody>\n",
							"    <tr>\n",
							"      <th>0</th>\n",
							"      <td>専</td>\n",
							"      <td>46</td>\n",
							"    </tr>\n",
							"    <tr>\n",
							"      <th>1</th>\n",
							"      <td>博</td>\n",
							"      <td>47</td>\n",
							"    </tr>\n",
							"    <tr>\n",
							"      <th>2</th>\n",
							"      <td>占</td>\n",
							"      <td>48</td>\n",
							"    </tr>\n",
							"    <tr>\n",
							"      <th>3</th>\n",
							"      <td>上</td>\n",
							"      <td>49</td>\n",
							"    </tr>\n",
							"    <tr>\n",
							"      <th>4</th>\n",
							"      <td>下</td>\n",
							"      <td>50</td>\n",
							"    </tr>\n",
							"  </tbody>\n",
							"</table>\n",
							"</div>"
						],
						"text/plain": [
							"   0   1\n",
							"0  専  46\n",
							"1  博  47\n",
							"2  占  48\n",
							"3  上  49\n",
							"4  下  50"
						]
					},
					"execution_count": 3,
					"metadata": {},
					"output_type": "execute_result"
				}
			],
			"source": [
				"kanji_list_filename = 'memrise_rtk_kanji.txt'\n",
				"df = pandas.read_csv(kanji_list_filename, header=None, encoding='utf-8')\n",
				"df.head()"
			]
		},
		{
			"cell_type": "code",
			"execution_count": 4,
			"metadata": {},
			"outputs": [
				{
					"data": {
						"text/plain": [
							"'2.0.0-alpha0'"
						]
					},
					"execution_count": 4,
					"metadata": {},
					"output_type": "execute_result"
				}
			],
			"source": [
				"tf.__version__"
			]
		},
		{
			"cell_type": "markdown",
			"metadata": {},
			"source": [
				"I will generate will python `dict` for convenience when mapping back and forth between  the `kanji` and its `label`."
			]
		},
		{
			"cell_type": "code",
			"execution_count": 3,
			"metadata": {},
			"outputs": [
				{
					"name": "stdout",
					"output_type": "stream",
					"text": [
						"(2199, 2)\n",
						"[['専', 46], ['博', 47], ['占', 48], ['上', 49], ['下', 50]]\n"
					]
				}
			],
			"source": [
				"np_df = df.values\n",
				"print(np_df.shape)\n",
				"\n",
				"list_df = np_df.tolist()\n",
				"print(list_df[:5])"
			]
		},
		{
			"cell_type": "markdown",
			"metadata": {},
			"source": [
				"Ops, the kanji list is not sorted."
			]
		},
		{
			"cell_type": "code",
			"execution_count": 4,
			"metadata": {},
			"outputs": [
				{
					"name": "stdout",
					"output_type": "stream",
					"text": [
						"[['一', 1], ['二', 2], ['三', 3], ['四', 4], ['五', 5]]\n"
					]
				}
			],
			"source": [
				"list_df.sort(key=lambda x: x[1])\n",
				"print(list_df[:5])"
			]
		},
		{
			"cell_type": "code",
			"execution_count": 5,
			"metadata": {},
			"outputs": [
				{
					"name": "stdout",
					"output_type": "stream",
					"text": [
						"['一' '二' '三' '四' '五']\n"
					]
				}
			],
			"source": [
				"kanji_list = np.array(list_df)[:, 0]\n",
				"\n",
				"kanji_dict = {kanji: idx for idx, kanji in enumerate(kanji_list)}\n",
				"label_dict = {idx: kanji for idx, kanji in enumerate(kanji_list)}\n",
				"\n",
				"print(kanji_list[:5])\n",
				"# print(kanji_dict)\n",
				"# print(label_dict)"
			]
		},
		{
			"cell_type": "markdown",
			"metadata": {},
			"source": [
				"Create a `.py` file for both human readable and ability to import the `kanji_dict` and `label_dict`"
			]
		},
		{
			"cell_type": "code",
			"execution_count": 6,
			"metadata": {},
			"outputs": [],
			"source": [
				"output_filename = 'kanji_label_dict.py'\n",
				"with open(output_filename, 'w', encoding='utf-8') as f:\n",
				"    f.write('# encoding=utf-8\\n')\n",
				"\n",
				"    f.write('kanji_dict = {')\n",
				"    for idx, key in enumerate(kanji_dict.keys()):\n",
				"        if idx % 100 == 0:\n",
				"            f.write('\\n')\n",
				"        f.write(f'\\'{key}\\': {kanji_dict[key]},')\n",
				"    f.write('\\n}\\n')\n",
				"\n",
				"    f.write('label_dict = {')\n",
				"    for idx, key in enumerate(label_dict.keys()):\n",
				"        if idx % 100 == 0:\n",
				"            f.write('\\n')\n",
				"        f.write(f'{key}: \\'{label_dict[key]}\\',')\n",
				"    f.write('\\n}\\n')"
			]
		},
		{
			"cell_type": "markdown",
			"metadata": {},
			"source": [
				"## Dataset\n",
				"\n",
				"Create a nice and clean dataset may be one of the most mundane task.\n",
				"\n",
				"Here are some places to find the dataset:\n",
				"\n",
				"- [ETL Character Database](http://etlcdb.db.aist.go.jp/)\n",
				"- [CASIA](http://www.nlpr.ia.ac.cn/databases/handwriting/Home.html)\n",
				"\n",
				"\n",
				"I created my own dataset by using `pillow`. Here are the steps that I used:\n",
				"\n",
				"1. Search the internet for Japanese fonts.\n",
				"\n",
				"Most of them are handwriting fonts. \n",
				"\n",
				"[Here](https://www.freejapanesefont.com/) is great resource for finding Japanese fonts.\n",
				"\n",
				"2. Load the font using `PIL.ImageFont` and draw kanji on a blank image with `PIL.ImageDraw` and save to disk.\n",
				"\n",
				"**Note**: Saving thousands of small files to disk was a terrible idea. However, I need to inspect the image to clean the dataset. If the font does not support some characters, the result image will be **blank** or **tofu** shape.\n",
				"\n",
				"3. After verifying all the images (remove **tofu** images), I performs some data augmentation methods.\n",
				"\n",
				"I did rotate all images by `10` and `-10` degrees.\n",
				"\n",
				"I did not translate the image because that will increase the complexity and put unnessesary stress on the network.\n",
				"\n",
				"All data augmenation are performed in memory then written to single `TFRecord` file."
			]
		},
		{
			"cell_type": "code",
			"execution_count": 2,
			"metadata": {},
			"outputs": [],
			"source": [
				"# this is the generated python file that has the `kanji_dict` and `label_dict`\n",
				"import kanji_label_dict as kld"
			]
		},
		{
			"cell_type": "markdown",
			"metadata": {},
			"source": [
				"Let's preview the dataset\n",
				"\n",
				"Require `eager execution` enabled."
			]
		},
		{
			"cell_type": "code",
			"execution_count": 8,
			"metadata": {},
			"outputs": [
				{
					"data": {
						"text/plain": [
							"<DatasetV1Adapter shapes: {image_raw: (), label: ()}, types: {image_raw: tf.string, label: tf.int64}>"
						]
					},
					"execution_count": 8,
					"metadata": {},
					"output_type": "execute_result"
				}
			],
			"source": [
				"tfrecord_filename = 'kanji_dataset.tfrecord'\n",
				"\n",
				"raw_image_dataset = tf.data.TFRecordDataset(tfrecord_filename)\n",
				"\n",
				"def _parse_image_function(example_proto):\n",
				"    # feature dictionary\n",
				"    image_feature_description = {\n",
				"        'image_raw': tf.FixedLenFeature([], tf.string),\n",
				"        'label': tf.FixedLenFeature([], tf.int64),\n",
				"    }\n",
				"    return tf.parse_single_example(example_proto, image_feature_description)\n",
				"\n",
				"parsed_image_dataset = raw_image_dataset.map(_parse_image_function)\n",
				"parsed_image_dataset"
			]
		},
		{
			"cell_type": "code",
			"execution_count": 9,
			"metadata": {},
			"outputs": [
				{
					"name": "stdout",
					"output_type": "stream",
					"text": [
						"WARNING:tensorflow:From c:\\users\\shioko\\appdata\\local\\programs\\python\\python37\\lib\\site-packages\\tensorflow\\python\\data\\ops\\iterator_ops.py:532: colocate_with (from tensorflow.python.framework.ops) is deprecated and will be removed in a future version.\n",
						"Instructions for updating:\n",
						"Colocations handled automatically by placer.\n"
					]
				},
				{
					"data": {
						"image/png": "[encoded data removed]",
						"text/plain": [
							"<IPython.core.display.Image object>"
						]
					},
					"metadata": {},
					"output_type": "display_data"
				},
				{
					"data": {
						"text/html": [
							"index: 2 - kanji: 一 - label: 0"
						],
						"text/plain": [
							"<IPython.core.display.HTML object>"
						]
					},
					"metadata": {},
					"output_type": "display_data"
				},
				{
					"data": {
						"image/png": "[encoded data removed]",
						"text/plain": [
							"<IPython.core.display.Image object>"
						]
					},
					"metadata": {},
					"output_type": "display_data"
				},
				{
					"data": {
						"text/html": [
							"index: 7000 - kanji: 頁 - label: 59"
						],
						"text/plain": [
							"<IPython.core.display.HTML object>"
						]
					},
					"metadata": {},
					"output_type": "display_data"
				},
				{
					"data": {
						"image/png": "[encoded data removed]",
						"text/plain": [
							"<IPython.core.display.Image object>"
						]
					},
					"metadata": {},
					"output_type": "display_data"
				},
				{
					"data": {
						"text/html": [
							"index: 20000 - kanji: 魚 - label: 170"
						],
						"text/plain": [
							"<IPython.core.display.HTML object>"
						]
					},
					"metadata": {},
					"output_type": "display_data"
				}
			],
			"source": [
				"preview_indies = [2, 7000, 20000]\n",
				"\n",
				"for idx, image_features in enumerate(parsed_image_dataset):\n",
				"    if idx in preview_indies:\n",
				"        image_raw = image_features['image_raw'].numpy()\n",
				"        label = image_features['label'].numpy()\n",
				"        kanji = kld.label_dict[int(label)]\n",
				"        display.display(display.Image(data=image_raw))\n",
				"        display.display(display.HTML(f'index: {idx} - kanji: {kanji} - label: {label}'))\n",
				"        \n",
				"        if idx == preview_indies[-1]:\n",
				"            break"
			]
		},
		{
			"cell_type": "code",
			"execution_count": 11,
			"metadata": {},
			"outputs": [],
			"source": [
				"del parsed_image_dataset"
			]
		},
		{
			"cell_type": "markdown",
			"metadata": {},
			"source": [
				"## Train the model\n",
				"\n",
				"After having the dataset, the only thing left is press the training button."
			]
		},
		{
			"cell_type": "code",
			"execution_count": 5,
			"metadata": {},
			"outputs": [
				{
					"name": "stdout",
					"output_type": "stream",
					"text": [
						"Model: \"sequential\"\n",
						"_________________________________________________________________\n",
						"Layer (type)                 Output Shape              Param #   \n",
						"=================================================================\n",
						"Conv2D_NUM_1 (Conv2D)        (None, 48, 48, 32)        9280      \n",
						"_________________________________________________________________\n",
						"Dropout_NUM_1 (Dropout)      (None, 48, 48, 32)        0         \n",
						"_________________________________________________________________\n",
						"MaxPool2D_NUM_1 (MaxPooling2 (None, 24, 24, 32)        0         \n",
						"_________________________________________________________________\n",
						"Conv2D_NUM_2 (Conv2D)        (None, 20, 20, 64)        51264     \n",
						"_________________________________________________________________\n",
						"Dropout_NUM_2 (Dropout)      (None, 20, 20, 64)        0         \n",
						"_________________________________________________________________\n",
						"MaxPool2D_NUM_2 (MaxPooling2 (None, 10, 10, 64)        0         \n",
						"_________________________________________________________________\n",
						"Conv2D_NUM_3 (Conv2D)        (None, 8, 8, 128)         73856     \n",
						"_________________________________________________________________\n",
						"Dropout_NUM_3 (Dropout)      (None, 8, 8, 128)         0         \n",
						"_________________________________________________________________\n",
						"MaxPool2D_NUM_3 (MaxPooling2 (None, 4, 4, 128)         0         \n",
						"_________________________________________________________________\n",
						"Flatten_NUM_1 (Flatten)      (None, 2048)              0         \n",
						"_________________________________________________________________\n",
						"Dense_NUM_1 (Dense)          (None, 512)               1049088   \n",
						"_________________________________________________________________\n",
						"Output_Dense_layer (Dense)   (None, 2199)              1128087   \n",
						"=================================================================\n",
						"Total params: 2,311,575\n",
						"Trainable params: 2,311,575\n",
						"Non-trainable params: 0\n",
						"_________________________________________________________________\n"
					]
				}
			],
			"source": [
				"# model = utilities.kanji_model_v1()\n",
				"model = utilities.kanji_model_v3()\n",
				"model.compile(\n",
				"    optimizer='adam',\n",
				"    loss='sparse_categorical_crossentropy',\n",
				"    metrics=['accuracy'],\n",
				")\n",
				"model.summary()"
			]
		},
		{
			"cell_type": "code",
			"execution_count": 3,
			"metadata": {},
			"outputs": [],
			"source": [
				"class MyClassback(tf.keras.callbacks.Callback):\n",
				"    def __init__(self, model_prefix: str, save_dir: str):\n",
				"        self.prefix = model_prefix\n",
				"        self.save_dir = save_dir\n",
				"        self.last_acc = None\n",
				"\n",
				"    def on_epoch_end(self, epoch, logs={}):\n",
				"        acc = logs.get('acc')\n",
				"\n",
				"        if self.last_acc is None:\n",
				"            self.last_acc = acc\n",
				"        else:\n",
				"            if self.last_acc > acc:\n",
				"                self.save_model_weights(epoch, acc)\n",
				"                \n",
				"            self.last_acc = acc\n",
				"            \n",
				"        if acc >= 0.97:\n",
				"            self.model.stop_training = True\n",
				"            self.save_model_weights(epoch, acc)\n",
				"        elif epoch % 2 == 0:\n",
				"            self.save_model_weights(epoch, acc)\n",
				"        \n",
				"    def save_model_weights(self, epoch, acc):\n",
				"        if not os.path.exists(self.save_dir):\n",
				"            os.makedirs(self.save_dir)\n",
				"        model_weights_filename = f'{self.save_dir}/{self.prefix}_epoch_{str(epoch).zfill(2)}_acc_{acc:.2f}_{utilities.time_now()}.h5'\n",
				"        self.model.save_weights(model_weights_filename)"
			]
		},
		{
			"cell_type": "code",
			"execution_count": 4,
			"metadata": {},
			"outputs": [],
			"source": [
				"callback = MyClassback('kanji_model_v3', 'kanji_model_v3')"
			]
		},
		{
			"cell_type": "code",
			"execution_count": 5,
			"metadata": {},
			"outputs": [
				{
					"data": {
						"text/plain": [
							"<DatasetV1Adapter shapes: ((?, 64, 64, 1), (?,)), types: (tf.float32, tf.int64)>"
						]
					},
					"execution_count": 5,
					"metadata": {},
					"output_type": "execute_result"
				}
			],
			"source": [
				"# the number of samples is 256776 (the last time I keep track of it)\n",
				"buffer_size = 256776\n",
				"# buffer_size = 256\n",
				"batch_size = 256\n",
				"steps_per_epoch = math.ceil(buffer_size / batch_size)\n",
				"\n",
				"tfrecord_filename = 'kanji_dataset.tfrecord'\n",
				"ds = utilities.load_tfrecord(tfrecord_filename)\n",
				"ds = ds.cache()\n",
				"ds = ds.apply(tf.data.experimental.shuffle_and_repeat(buffer_size=buffer_size))\n",
				"ds = ds.batch(batch_size)\n",
				"ds"
			]
		},
		{
			"cell_type": "code",
			"execution_count": 6,
			"metadata": {},
			"outputs": [
				{
					"name": "stdout",
					"output_type": "stream",
					"text": [
						"Epoch 1/8\n",
						"1004/1004 [==============================] - 165s 164ms/step - loss: 2.5936 - acc: 0.5379\n",
						"Epoch 2/8\n",
						"1004/1004 [==============================] - 112s 111ms/step - loss: 0.2454 - acc: 0.9279\n",
						"Epoch 3/8\n",
						"1004/1004 [==============================] - 101s 101ms/step - loss: 0.1231 - acc: 0.9616\n",
						"Epoch 4/8\n",
						"1004/1004 [==============================] - 101s 100ms/step - loss: 0.0912 - acc: 0.9714\n"
					]
				}
			],
			"source": [
				"history = model.fit(\n",
				"    ds,\n",
				"    epochs=8,\n",
				"    steps_per_epoch=steps_per_epoch,\n",
				"    callbacks=[callback],\n",
				")"
			]
		},
		{
			"cell_type": "code",
			"execution_count": 7,
			"metadata": {},
			"outputs": [],
			"source": [
				"import matplotlib.pyplot as plt"
			]
		},
		{
			"cell_type": "code",
			"execution_count": 8,
			"metadata": {},
			"outputs": [
				{
					"data": {
						"text/plain": [
							"[<matplotlib.lines.Line2D at 0x21e2b6f0ba8>]"
						]
					},
					"execution_count": 8,
					"metadata": {},
					"output_type": "execute_result"
				},
				{
					"data": {
						"image/png": "[encoded data removed]",
						"text/plain": [
							"<Figure size 432x288 with 1 Axes>"
						]
					},
					"metadata": {
						"needs_background": "light"
					},
					"output_type": "display_data"
				}
			],
			"source": [
				"plt.plot(history.epoch, history.history['acc'])"
			]
		},
		{
			"cell_type": "code",
			"execution_count": 9,
			"metadata": {},
			"outputs": [
				{
					"data": {
						"text/plain": [
							"[<matplotlib.lines.Line2D at 0x21e2b7849b0>]"
						]
					},
					"execution_count": 9,
					"metadata": {},
					"output_type": "execute_result"
				},
				{
					"data": {
						"image/png": "[encoded data removed]",
						"text/plain": [
							"<Figure size 432x288 with 1 Axes>"
						]
					},
					"metadata": {
						"needs_background": "light"
					},
					"output_type": "display_data"
				}
			],
			"source": [
				"plt.plot(history.epoch, history.history['loss'])"
			]
		},
		{
			"cell_type": "code",
			"execution_count": 10,
			"metadata": {},
			"outputs": [
				{
					"data": {
						"text/plain": [
							"[<matplotlib.lines.Line2D at 0x21e2b7bb9e8>]"
						]
					},
					"execution_count": 10,
					"metadata": {},
					"output_type": "execute_result"
				},
				{
					"data": {
						"image/png": "[encoded data removed]",
						"text/plain": [
							"<Figure size 432x288 with 1 Axes>"
						]
					},
					"metadata": {
						"needs_background": "light"
					},
					"output_type": "display_data"
				}
			],
			"source": [
				"plt.plot(history.epoch, history.history['acc'])\n",
				"plt.plot(history.epoch, history.history['loss'])"
			]
		},
		{
			"cell_type": "code",
			"execution_count": 11,
			"metadata": {},
			"outputs": [],
			"source": [
				"model_filename = 'kanji_model_v3.h5'\n",
				"model.save(model_filename)"
			]
		}
	],
	"metadata": {
		"kernelspec": {
			"display_name": "Python 3",
			"language": "python",
			"name": "python3"
		},
		"language_info": {
			"codemirror_mode": {
				"name": "ipython",
				"version": 3
			},
			"file_extension": ".py",
			"mimetype": "text/x-python",
			"name": "python",
			"nbconvert_exporter": "python",
			"pygments_lexer": "ipython3"
		}
	},
	"nbformat": 4,
	"nbformat_minor": 2
}
