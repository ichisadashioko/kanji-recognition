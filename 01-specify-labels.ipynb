{
	"cells": [
		{
			"cell_type": "markdown",
			"metadata": {},
			"source": [
				"# Specify labels for training model\n",
				"\n",
				"Unlike cat and dog classifier where there are only two categories or the MNIST example which only has 10 outputs (0-9), there are at least thousands of Japanese characters (or Chinese characters). "
			]
		}
	],
	"metadata": {
		"kernelspec": {
			"display_name": "Python 3",
			"language": "python",
			"name": "python3"
		},
		"language_info": {
			"codemirror_mode": {
				"name": "ipython",
				"version": 3
			},
			"file_extension": ".py",
			"mimetype": "text/x-python",
			"name": "python",
			"nbconvert_exporter": "python",
			"pygments_lexer": "ipython3"
		}
	},
	"nbformat": 4,
	"nbformat_minor": 4
}
